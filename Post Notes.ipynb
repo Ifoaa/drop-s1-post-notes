{
 "cells": [
  {
   "cell_type": "code",
   "execution_count": 1,
   "id": "2d18089d",
   "metadata": {},
   "outputs": [],
   "source": [
    "import string\n",
    "from collections import Counter\n",
    "import matplotlib.pyplot as plt\n",
    "from nltk.corpus import stopwords\n",
    "from nltk.tokenize import word_tokenize\n",
    "from nltk.sentiment import SentimentIntensityAnalyzer"
   ]
  },
  {
   "cell_type": "code",
   "execution_count": 2,
   "id": "316e3dbc",
   "metadata": {},
   "outputs": [],
   "source": [
    "# Function to clean the text\n",
    "def clean_text(text):\n",
    "    text = text.lower()\n",
    "    text = text.translate(str.maketrans('', '', string.punctuation))\n",
    "    return text\n",
    "\n",
    "# Function to remove stopwords\n",
    "def remove_stopwords(text):\n",
    "    words = word_tokenize(text, \"english\")\n",
    "    cleaned_words = [word for word in words if word not in stopwords.words('english')]\n",
    "    return cleaned_words\n",
    "\n",
    "# Function to extract emotions from text\n",
    "def extract_emotions(words):\n",
    "    emotion_list = []\n",
    "    with open('emotions.txt', 'r') as file:\n",
    "        for line in file:\n",
    "            clear_line = line.replace(\"\\n\", '').replace(\",\", '').replace(\"'\", '').strip()\n",
    "            word, emotion = clear_line.split(':')\n",
    "            if word in words:\n",
    "                emotion_list.append(emotion)\n",
    "    return emotion_list"
   ]
  },
  {
   "cell_type": "code",
   "execution_count": 3,
   "id": "b50eb87a",
   "metadata": {},
   "outputs": [
    {
     "name": "stdout",
     "output_type": "stream",
     "text": [
      "What would you like to say... I love you\n",
      "Emotions: [' love']\n",
      "Emotion Counts: Counter({' love': 1})\n",
      "Sentiment Analysis: Positive Sentiment\n"
     ]
    },
    {
     "data": {
      "image/png": "[encoded data removed]",
      "text/plain": [
       "<Figure size 640x480 with 1 Axes>"
      ]
     },
     "metadata": {},
     "output_type": "display_data"
    }
   ],
   "source": [
    "# Function for sentiment analysis\n",
    "def sentiment_analysis(sentiment_text):\n",
    "    analyzer = SentimentIntensityAnalyzer()\n",
    "    score = analyzer.polarity_scores(sentiment_text)\n",
    "    neg = score['neg']\n",
    "    pos = score['pos']\n",
    "    if neg > pos:\n",
    "        return \"Negative Sentiment\"\n",
    "    elif pos > neg:\n",
    "        return \"Positive Sentiment\"\n",
    "    else:\n",
    "        return \"Neutral Sentiment\"\n",
    "\n",
    "# Function to plot emotions\n",
    "def plot_emotions(emotion_counts):\n",
    "    fig, ax1 = plt.subplots()\n",
    "    ax1.bar(emotion_counts.keys(), emotion_counts.values(), color='maroon')\n",
    "    fig.autofmt_xdate()\n",
    "    plt.savefig('graph.png')\n",
    "    plt.show()\n",
    "\n",
    "# Main execution\n",
    "if __name__ == \"__main__\":\n",
    "    text = input(\"What would you like to say... \")\n",
    "    cleaned_text = clean_text(text)\n",
    "    words = remove_stopwords(cleaned_text)\n",
    "    emotions = extract_emotions(words)\n",
    "\n",
    "    print(\"Emotions:\", emotions)\n",
    "    emotion_counts = Counter(emotions)\n",
    "    print(\"Emotion Counts:\", emotion_counts)\n",
    "\n",
    "    sentiment = sentiment_analysis(cleaned_text)\n",
    "    print(\"Sentiment Analysis:\", sentiment)\n",
    "\n",
    "    plot_emotions(emotion_counts)"
   ]
  },
  {
   "cell_type": "code",
   "execution_count": null,
   "id": "51c2ff8a",
   "metadata": {},
   "outputs": [],
   "source": []
  }
 ],
 "metadata": {
  "kernelspec": {
   "display_name": "Python 3 (ipykernel)",
   "language": "python",
   "name": "python3"
  },
  "language_info": {
   "codemirror_mode": {
    "name": "ipython",
    "version": 3
   },
   "file_extension": ".py",
   "mimetype": "text/x-python",
   "name": "python",
   "nbconvert_exporter": "python",
   "pygments_lexer": "ipython3",
   "version": "3.11.5"
  }
 },
 "nbformat": 4,
 "nbformat_minor": 5
}
